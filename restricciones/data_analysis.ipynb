{
 "cells": [
  {
   "cell_type": "code",
   "execution_count": 111,
   "id": "0c40dbb6",
   "metadata": {},
   "outputs": [],
   "source": [
    "import json\n",
    "import numpy as np\n",
    "from matplotlib import pyplot as plt\n",
    "from scipy import stats"
   ]
  },
  {
   "cell_type": "code",
   "execution_count": 118,
   "id": "f4534546",
   "metadata": {},
   "outputs": [],
   "source": [
    "########### CONSTANTES ###########\n",
    "#Ruta al archivo de los datos\n",
    "FILE=\"restricciones/data_ccaa.json\"\n",
    "NUM_EXE=50\n",
    "########### VARIABLES ###########\n",
    "total_quimera=0\n",
    "total_pegasus=0\n",
    "total_quimera_time=0\n",
    "total_pegasus_time=0\n",
    "qubits_sol_quimera=[]\n",
    "qubits_sol_pegasus=[]\n",
    "total_quimera_sols=0\n",
    "total_pegasus_sols=0"
   ]
  },
  {
   "cell_type": "code",
   "execution_count": 119,
   "id": "6695588a",
   "metadata": {},
   "outputs": [],
   "source": [
    "#Obtenemos los datos del archivo Python\n",
    "with open(FILE) as f:\n",
    "    data_ccaa = json.load(f)\n",
    "for i in data_ccaa:\n",
    "    architecture =i['architecture']\n",
    "    time=i['qpu_time']\n",
    "    num_sol=i['num_sols']\n",
    "    qubits=i['qubits']\n",
    "    if(architecture=='Quimera'):\n",
    "        total_quimera +=1\n",
    "        total_quimera_time+=time\n",
    "        total_quimera_sols+=num_sol\n",
    "        qubits_sol_quimera.append((qubits,num_sol))\n",
    "    else:\n",
    "        total_pegasus +=1\n",
    "        total_pegasus_time+=time\n",
    "        total_pegasus_sols+=num_sol\n",
    "        qubits_sol_pegasus.append((qubits,num_sol))\n"
   ]
  },
  {
   "cell_type": "code",
   "execution_count": 125,
   "id": "5ec870ad",
   "metadata": {},
   "outputs": [
    {
     "data": {
      "image/png": "[encoded data removed]",
      "text/plain": [
       "<Figure size 432x288 with 1 Axes>"
      ]
     },
     "metadata": {
      "needs_background": "light"
     },
     "output_type": "display_data"
    },
    {
     "name": "stdout",
     "output_type": "stream",
     "text": [
      "Valor de r cuadrado en pegasus : -0.21330810740545303\n"
     ]
    }
   ],
   "source": [
    "#Representamos los datos de Pegasus y calculamos su regresion lineal\n",
    "if(total_pegasus>0):\n",
    "    y= [i[0] for i in qubits_sol_pegasus]\n",
    "    x= [i[1] for i in qubits_sol_pegasus]\n",
    "    stats_linregress = stats.linregress(x, y)\n",
    "    plt.plot(x,y,'o',label='Qubits/n soluciones')\n",
    "    plt.plot(x,stats_linregress.intercept + stats_linregress.slope*np.array(x), 'r', label='Regresión lineal')\n",
    "    plt.ylabel(\"Qubits\")\n",
    "    plt.xlabel(\"Soluciones\")\n",
    "    plt.legend(loc='best')\n",
    "    plt.show()\n",
    "    print(\"Valor de r cuadrado en pegasus : \"+str(stats_linregress.rvalue))"
   ]
  },
  {
   "cell_type": "code",
   "execution_count": 126,
   "id": "da3c021d",
   "metadata": {},
   "outputs": [
    {
     "data": {
      "image/png": "[encoded data removed]",
      "text/plain": [
       "<Figure size 432x288 with 1 Axes>"
      ]
     },
     "metadata": {
      "needs_background": "light"
     },
     "output_type": "display_data"
    },
    {
     "name": "stdout",
     "output_type": "stream",
     "text": [
      "Valor de r cuadrado en quimera : -0.5039151381428222\n"
     ]
    }
   ],
   "source": [
    "#Representamos los datos de Quimera y su regresion lineal\n",
    "if(total_quimera>0):\n",
    "    y= [i[0] for i in qubits_sol_quimera]\n",
    "    x= [i[1] for i in qubits_sol_quimera]\n",
    "    stats_linregress = stats.linregress(x, y)\n",
    "    plt.plot(x,y,'o',label='Qubits/n soluciones')\n",
    "    plt.plot(x,stats_linregress.intercept + stats_linregress.slope*np.array(x), 'r', label='Regresión lineal')\n",
    "    plt.ylabel(\"Qubits\")\n",
    "    plt.xlabel(\"Soluciones\")\n",
    "    plt.legend(loc='best')\n",
    "    plt.show()\n",
    "    rvalue_quimera = stats.linregress(x, y).rvalue\n",
    "    print(\"Valor de r cuadrado en quimera : \"+str(rvalue_quimera))"
   ]
  },
  {
   "cell_type": "code",
   "execution_count": 129,
   "id": "ef0ad483",
   "metadata": {},
   "outputs": [
    {
     "name": "stdout",
     "output_type": "stream",
     "text": [
      "Tiempo medio de Quimera (micro s) 59904.30612244898\n",
      "Tiempo medio de Pegasus (micro s) 39378.38\n",
      "El tiempo de uso de la QPU de Quimera es 1.52 veces en comparacion con pegasus\n"
     ]
    }
   ],
   "source": [
    "#Comparamos el tiempo de acceso a la QPU\n",
    "if(total_quimera == 0 or total_pegasus == 0):\n",
    "    print(\"No hay datos de alguno de los solvers luego no se puede comparar\")\n",
    "else:\n",
    "    avg_time_quimera=total_quimera_time/total_quimera\n",
    "    avg_time_pegasus=total_pegasus_time/total_pegasus\n",
    "    print(\"Tiempo medio de Quimera (micro s) \"+str(avg_time_quimera))\n",
    "    print(\"Tiempo medio de Pegasus (micro s) \"+str(avg_time_pegasus))\n",
    "    print(\"El tiempo de uso de la QPU de Quimera es \"+str(round(avg_time_quimera/avg_time_pegasus,2))+\" veces en comparacion con pegasus\")"
   ]
  },
  {
   "cell_type": "code",
   "execution_count": 130,
   "id": "82c1d741",
   "metadata": {},
   "outputs": [
    {
     "name": "stdout",
     "output_type": "stream",
     "text": [
      "Soluciones medias de Quimera 9.244897959183673\n",
      "Soluciones medias de Pegasus 4.08\n",
      "Quimera da un total de  2.27 soluciones en comparacion con pegasus\n",
      "Quimera no encontro soluciones al problema en 1 veces\n",
      "Pegasus encontro soluciones correctas en todas las ejecuciones\n"
     ]
    }
   ],
   "source": [
    "#Comparamos el numero de soluciones apoortadas\n",
    "if(total_quimera == 0 or total_pegasus == 0):\n",
    "    print(\"No hay datos de alguno de los solvers luego no se puede comparar\")\n",
    "else:\n",
    "    avg_sols_quimera=total_quimera_sols/total_quimera\n",
    "    avg_sols_pegasus=total_pegasus_sols/total_pegasus\n",
    "    print(\"Soluciones medias de Quimera \"+str(avg_sols_quimera))\n",
    "    print(\"Soluciones medias de Pegasus \"+str(avg_sols_pegasus))\n",
    "    print(\"Quimera da un total de  \"+str(round(avg_sols_quimera/avg_sols_pegasus,2))+\" soluciones en comparacion con pegasus\")\n",
    "if(total_quimera==NUM_EXE):\n",
    "    print(\"Quimera encontro soluciones correctas en todas las ejecuciones\")\n",
    "else:\n",
    "    print(\"Quimera no encontro soluciones al problema en \"+ str(NUM_EXE-total_quimera)+\" veces\")\n",
    "if(total_pegasus==NUM_EXE):\n",
    "    print(\"Pegasus encontro soluciones correctas en todas las ejecuciones\")\n",
    "else:\n",
    "    print(\"Pegasus no encontro soluciones al problema en \"+ str(NUM_EXE-total_pegasus)+\" veces\")"
   ]
  },
  {
   "cell_type": "code",
   "execution_count": 131,
   "id": "c77e8619",
   "metadata": {},
   "outputs": [
    {
     "name": "stdout",
     "output_type": "stream",
     "text": [
      "Qubits fisicos medias de Quimera 321.6734693877551\n",
      "Qubits fisicos de Pegasus 151.32\n",
      "Quimera usa 2.13 qubits en comparacion con pegasus\n"
     ]
    }
   ],
   "source": [
    "#Comparamos la cantidad de Qubits fisicos usados para el embedding\n",
    "if(total_quimera == 0 or total_pegasus == 0):\n",
    "    print(\"No hay datos de alguno de los solvers luego no se puede comparar\")\n",
    "else:\n",
    "    qubits_quimera = sum([i[0] for i in qubits_sol_quimera])\n",
    "    qubits_pegasus = sum([i[0] for i in qubits_sol_pegasus])\n",
    "    avg_qubits_quimera=qubits_quimera/total_quimera\n",
    "    avg_qubits_pegasus=qubits_pegasus/total_pegasus\n",
    "    print(\"Qubits fisicos medias de Quimera \"+str(avg_qubits_quimera))\n",
    "    print(\"Qubits fisicos de Pegasus \"+str(avg_qubits_pegasus))\n",
    "    print(\"Quimera usa \"+str(round(avg_qubits_quimera/avg_qubits_pegasus,2))+\" qubits en comparacion con pegasus\")"
   ]
  },
  {
   "cell_type": "code",
   "execution_count": null,
   "id": "1d0e913b",
   "metadata": {},
   "outputs": [],
   "source": []
  }
 ],
 "metadata": {
  "kernelspec": {
   "display_name": "Python 3 (ipykernel)",
   "language": "python",
   "name": "python3"
  },
  "language_info": {
   "codemirror_mode": {
    "name": "ipython",
    "version": 3
   },
   "file_extension": ".py",
   "mimetype": "text/x-python",
   "name": "python",
   "nbconvert_exporter": "python",
   "pygments_lexer": "ipython3",
   "version": "3.9.7"
  }
 },
 "nbformat": 4,
 "nbformat_minor": 5
}
